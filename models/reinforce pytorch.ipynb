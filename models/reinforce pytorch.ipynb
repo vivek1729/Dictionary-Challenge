{
 "cells": [
  {
   "cell_type": "code",
   "execution_count": 135,
   "metadata": {
    "collapsed": true
   },
   "outputs": [],
   "source": [
    "from __future__ import print_function\n",
    "import pickle\n",
    "import torch\n",
    "import torch.nn as nn\n",
    "import torch.nn.functional as F\n",
    "import torch.optim as optim\n",
    "import numpy as np\n",
    "from scipy.spatial.distance import cdist\n",
    "import math\n",
    "import pylab as pl\n",
    "import csv\n",
    "import datetime"
   ]
  },
  {
   "cell_type": "code",
   "execution_count": 2,
   "metadata": {
    "collapsed": true
   },
   "outputs": [],
   "source": [
    "words,defs = pickle.load(open(\"train_data_filtered.pkl\", \"rb\" ),encoding='latin1')\n",
    "word_embs = pickle.load(open(\"../embeddings/D_cbow_pdw_8B.pkl\", \"rb\" ),encoding='latin1')\n",
    "#Based on https://stackoverflow.com/questions/32957708/python-pickle-error-unicodedecodeerror"
   ]
  },
  {
   "cell_type": "code",
   "execution_count": 136,
   "metadata": {
    "collapsed": true
   },
   "outputs": [],
   "source": [
    "#Selecting subset of data\n",
    "training_words = words[:1000]\n",
    "training_defs = defs[:1000]"
   ]
  },
  {
   "cell_type": "code",
   "execution_count": 137,
   "metadata": {
    "collapsed": true
   },
   "outputs": [],
   "source": [
    "#Create vocab\n",
    "def create_vocab(words,defs):\n",
    "    x_vocab = {}\n",
    "    y_vocab = {}\n",
    "    x_idx = 0\n",
    "    y_idx = 0\n",
    "    for word in words:\n",
    "        if word not in y_vocab:\n",
    "            y_vocab[word] = y_idx\n",
    "            y_idx += 1\n",
    "\n",
    "    for word_def in defs:\n",
    "        for word in word_def:\n",
    "            if word not in x_vocab:\n",
    "                x_vocab[word] = x_idx\n",
    "                x_idx += 1\n",
    "    x_vocab['<pad>'] = x_idx #Pad token is last index useed for masking\n",
    "    y_vocab['<pad>'] = y_idx #Pad token is last index useed for masking\n",
    "    print('Unique words found in x_vocab ',len(x_vocab))\n",
    "    print('Unique words found in y_vocab ',len(y_vocab))\n",
    "    return x_vocab,y_vocab"
   ]
  },
  {
   "cell_type": "code",
   "execution_count": 138,
   "metadata": {},
   "outputs": [
    {
     "name": "stdout",
     "output_type": "stream",
     "text": [
      "Unique words found in x_vocab  2739\n",
      "Unique words found in y_vocab  75\n"
     ]
    }
   ],
   "source": [
    "X_vocab,Y_vocab = create_vocab(training_words,training_defs)"
   ]
  },
  {
   "cell_type": "code",
   "execution_count": 139,
   "metadata": {
    "collapsed": true
   },
   "outputs": [],
   "source": [
    "#Hyper params definition (from paper)\n",
    "vocab_len = len(X_vocab)\n",
    "max_len = 16 #Number of timesteps\n",
    "input_emb_dim = 500 #Dimension of learned input embeddings\n",
    "output_emb_dim = 500 #Standard dim of output provided\n",
    "lstm_units = 512\n",
    "batch_size = 16\n",
    "epochs = 10\n",
    "train_val_split = 0.95 #95% train, 5% validation\n",
    "MODEL_PATH = \"rlModelState.tar\""
   ]
  },
  {
   "cell_type": "code",
   "execution_count": 140,
   "metadata": {
    "collapsed": true
   },
   "outputs": [],
   "source": [
    "training_x = [[X_vocab[word] for word in word_def] for word_def in training_defs]\n",
    "training_y = [Y_vocab[word] for word in training_words]\n",
    "#Pad sequences, prepare training data\n",
    "X = np.ones((len(training_x), max_len)) * 0\n",
    "for i in range(len(training_x)):\n",
    "    seq = training_x[i]\n",
    "    seq_len = min(len(seq),max_len)\n",
    "    X[i,0:seq_len] = seq[0:seq_len]\n",
    "Y = np.array(training_y)\n",
    "data_set = []\n",
    "for i in range(len(training_x)):\n",
    "    data_set.append((X[i],Y[i]))"
   ]
  },
  {
   "cell_type": "code",
   "execution_count": 141,
   "metadata": {},
   "outputs": [
    {
     "name": "stdout",
     "output_type": "stream",
     "text": [
      "950\n"
     ]
    }
   ],
   "source": [
    "#Split dataset into training and validation set\n",
    "np.random.shuffle(data_set)\n",
    "val_idx = math.floor(train_val_split*len(data_set))\n",
    "print(val_idx)\n",
    "train_set = data_set[:val_idx]\n",
    "val_set = data_set[val_idx:]"
   ]
  },
  {
   "cell_type": "code",
   "execution_count": 142,
   "metadata": {
    "collapsed": true
   },
   "outputs": [],
   "source": [
    "class BatchIterator:\n",
    "\n",
    "    \"\"\"Iterator that returns batches of fixed sizes for specified epochs\"\"\"\n",
    "\n",
    "    def __init__(self, data_set, batch_size, epochs):\n",
    "        self.data_set = data_set\n",
    "        self.start_idx = 0\n",
    "        self.epochs = epochs\n",
    "        self.batch_size = batch_size\n",
    "        self.len_data_set = len(self.data_set)\n",
    "        self.current_epoch = 1\n",
    "        self.current_batch = 1       \n",
    "        self.batches_per_epoch = math.ceil(self.len_data_set/self.batch_size)\n",
    "        print(self.len_data_set)\n",
    "        print(self.batches_per_epoch)\n",
    "        np.random.shuffle(self.data_set)\n",
    "    def has_ended(self):\n",
    "        return self.current_epoch > self.epochs\n",
    "    \n",
    "    def __iter__(self):\n",
    "        return self\n",
    "\n",
    "    def __next__(self):\n",
    "        #print('Current start index '+str(self.start_idx))\n",
    "        #print('Current epoch, current batch '+str(self.current_epoch)+' , '+str(self.current_batch))\n",
    "        batch = []\n",
    "        i = self.start_idx\n",
    "        end = min(self.len_data_set-1,i+self.batch_size-1)\n",
    "        #print(end)\n",
    "        while(i <= end):\n",
    "            batch.append(self.data_set[i])\n",
    "            i += 1\n",
    "        #If can't find enough data points till the end of list, start from zero again\n",
    "        if(len(batch) < self.batch_size):\n",
    "            #print('Over shot the length of the list')\n",
    "            i = 0\n",
    "            while(len(batch) != self.batch_size):\n",
    "                batch.append(self.data_set[i]) \n",
    "                i += 1\n",
    "        self.start_idx = i\n",
    "        \n",
    "        #Increment epoch, reset variables, reshuffle the dataset\n",
    "        if(self.current_batch == self.batches_per_epoch):\n",
    "            self.current_epoch += 1            \n",
    "            self.current_batch = 1\n",
    "            #Shuffle the list, reset start idx\n",
    "            np.random.shuffle(self.data_set)\n",
    "            self.start_idx = 0\n",
    "        else:\n",
    "            self.current_batch += 1\n",
    "        return batch"
   ]
  },
  {
   "cell_type": "code",
   "execution_count": 143,
   "metadata": {},
   "outputs": [
    {
     "name": "stdout",
     "output_type": "stream",
     "text": [
      "Embedding not found\n",
      "Embedding matrix created!\n"
     ]
    }
   ],
   "source": [
    "#Create embedding matrix\n",
    "embedding_matrix = np.zeros((vocab_len, output_emb_dim))\n",
    "for word, i in X_vocab.items():\n",
    "    embedding_vector = word_embs.get(word)\n",
    "    if embedding_vector is not None:\n",
    "        # words not found in embedding index will be all-zeros.\n",
    "        embedding_matrix[i] = embedding_vector\n",
    "    else:\n",
    "        print('Embedding not found')\n",
    "        embedding_matrix[i] = np.random.normal(scale=0.6, size=(output_emb_dim, ))\n",
    "print(\"Embedding matrix created!\")"
   ]
  },
  {
   "cell_type": "code",
   "execution_count": 144,
   "metadata": {
    "collapsed": true
   },
   "outputs": [],
   "source": [
    "class PolicyEstimator(nn.Module):\n",
    "\n",
    "    def __init__(self, weight_matrix, embedding_dim, hidden_dim, vocab_size, tagset_size, seq_len, batch_size):\n",
    "        super(PolicyEstimator, self).__init__()\n",
    "        self.hidden_dim = hidden_dim\n",
    "        self.batch_size = batch_size\n",
    "        self.tagset_size = tagset_size\n",
    "        self.vocab_size = vocab_size\n",
    "        self.seq_len = seq_len\n",
    "        #self.word_embeddings = nn.Embedding(num_embeddings=vocab_size, embedding_dim=embedding_dim)\n",
    "        #Load pretrained word embeddings\n",
    "        self.word_embeddings = nn.Embedding.from_pretrained(weight_matrix)\n",
    "        #Trainable false\n",
    "        self.word_embeddings.weight.requires_grad = False\n",
    "        # The LSTM takes word embeddings as inputs, and outputs hidden states\n",
    "        # with dimensionality hidden_dim.\n",
    "        self.lstm = nn.LSTM(input_size=embedding_dim, hidden_size=hidden_dim, batch_first=True)\n",
    "\n",
    "        # The linear layer that maps from hidden state space to tag space\n",
    "        self.hidden2tag = nn.Linear(hidden_dim, tagset_size)\n",
    "        self.hidden = self.init_hidden()\n",
    "\n",
    "    def init_hidden(self):\n",
    "        # Before we've done anything, we dont have any hidden state.\n",
    "        # Refer to the Pytorch documentation to see exactly\n",
    "        # why they have this dimensionality.\n",
    "        # The axes semantics are (num_layers, minibatch_size, hidden_dim)\n",
    "        return (torch.zeros(1, self.batch_size, self.hidden_dim),\n",
    "                torch.zeros(1, self.batch_size, self.hidden_dim))\n",
    "    \n",
    "    def predict(self, sentence):\n",
    "        embeds = self.word_embeddings(sentence)\n",
    "        lstm_out, self.hidden = self.lstm(embeds, self.hidden)\n",
    "        X = lstm_out.contiguous()\n",
    "        X = X.view(-1, X.shape[2])\n",
    "        tag_space = self.hidden2tag(X)\n",
    "        tag_scores = F.softmax(tag_space, dim=1) #Return softmax here!\n",
    "        Y_hat = tag_scores.view(self.batch_size, self.seq_len, self.tagset_size)\n",
    "        return Y_hat\n",
    "\n",
    "    def forward(self, sentence):\n",
    "        embeds = self.word_embeddings(sentence)\n",
    "        lstm_out, self.hidden = self.lstm(embeds, self.hidden)\n",
    "        X = lstm_out.contiguous()\n",
    "        X = X.view(-1, X.shape[2])\n",
    "        tag_space = self.hidden2tag(X)\n",
    "        tag_scores = F.log_softmax(tag_space, dim=1) #Return log softmax for forward function!\n",
    "        Y_hat = tag_scores.view(self.batch_size, self.seq_len, self.tagset_size)\n",
    "        return Y_hat"
   ]
  },
  {
   "cell_type": "code",
   "execution_count": 145,
   "metadata": {
    "collapsed": true
   },
   "outputs": [],
   "source": [
    "# points should have embeddings of all output words in a list\n",
    "#Normalize output word embeddings to unit vectors\n",
    "def normalize_vocab(voc):\n",
    "    points = [None]*(len(voc))\n",
    "    for w, idx in voc.items():\n",
    "        points[idx] = embedding_matrix[idx]/np.linalg.norm(embedding_matrix[idx])\n",
    "    points = np.array(points)\n",
    "    return points"
   ]
  },
  {
   "cell_type": "code",
   "execution_count": 146,
   "metadata": {
    "collapsed": true
   },
   "outputs": [],
   "source": [
    "points = normalize_vocab(Y_vocab)"
   ]
  },
  {
   "cell_type": "code",
   "execution_count": 147,
   "metadata": {
    "collapsed": true
   },
   "outputs": [],
   "source": [
    "def get_pred_rank (pred_idx, label_idx, points):\n",
    "    dist_list = cdist(points, np.array([points[pred_idx]]), 'cosine').flatten() #Convert 2d into 1d array\n",
    "    #result_indices = np.argpartition(dist_list, k)[:k]\n",
    "    #if label_idx in result_indices:\n",
    "    #    return True\n",
    "    #return False\n",
    "    result_indices = list(np.argsort(dist_list))\n",
    "    return result_indices.index(label_idx)"
   ]
  },
  {
   "cell_type": "code",
   "execution_count": 148,
   "metadata": {
    "collapsed": true
   },
   "outputs": [],
   "source": [
    "def get_reward_for_action(action,target):\n",
    "    #Using inverse rank as reward\n",
    "    rank = get_pred_rank(action, target, points) + 1\n",
    "    return 1/rank"
   ]
  },
  {
   "cell_type": "code",
   "execution_count": 149,
   "metadata": {},
   "outputs": [],
   "source": [
    "def validate():\n",
    "    '''\n",
    "    (val_set) => (acc, top10, top100)\n",
    "    form chunks of batch size\n",
    "    get predictions for each time step from the LSTM\n",
    "    consider output of last time step as pred of LSTM\n",
    "    call rank function get rank, calculate acc\n",
    "    '''\n",
    "    val_results = []\n",
    "    count_10 = 0\n",
    "    count_100 = 0\n",
    "    i = 0\n",
    "    while i < len(val_set) and len(val_set) > len(val_results):       \n",
    "        val_batch = []\n",
    "        val_batch = val_set[i:i+batch_size]\n",
    "        term_idx = batch_size\n",
    "        if(len(val_batch) < batch_size):\n",
    "            term_idx = len(val_batch)\n",
    "            val_batch += val_set[0:batch_size-len(val_batch)]\n",
    "        val_states = [sequence[0] for sequence in val_batch]\n",
    "        val_tensor = torch.tensor(val_states, dtype=torch.long)    \n",
    "        val_out = model.predict(val_tensor)\n",
    "        val_out = val_out.detach().numpy()\n",
    "        i += batch_size\n",
    "        #print(val_out.shape)\n",
    "        for j in range(batch_size):\n",
    "            if(j < term_idx):\n",
    "                val_target = val_batch[j][1]\n",
    "                #print(val_out[i])\n",
    "                #print('=====')\n",
    "                #print(val_out[i][batch_size-1])\n",
    "                val_pred = np.argmax(val_out[j][batch_size-1])\n",
    "                #print(val_target,val_pred)\n",
    "                rank = get_pred_rank(val_pred, val_target, points)\n",
    "                if(rank < 10):\n",
    "                    count_10 += 1\n",
    "                if(rank < 100):\n",
    "                    count_100 += 1\n",
    "                #print(rank)\n",
    "                val_results.append(rank)\n",
    "    #print('Iter done')\n",
    "    #print(len(val_results),len(val_set))\n",
    "    return {'t_10':count_10,'t_100':count_100,'l':len(val_results)}"
   ]
  },
  {
   "cell_type": "code",
   "execution_count": 163,
   "metadata": {
    "collapsed": true
   },
   "outputs": [],
   "source": [
    "def train(policy_estimator, data_iterator):\n",
    "    # Define optimizer\n",
    "    optimizer = optim.Adam(policy_estimator.parameters(),lr=0.01)\n",
    "    total_rewards = []\n",
    "    counter = 0\n",
    "    loss_freq = 10 #Print loss every 10 batches   \n",
    "    losses=[]\n",
    "    last_epoch = 1\n",
    "    last_epoch_loss = 1000\n",
    "    \n",
    "    while(not data_iterator.has_ended()):\n",
    "        policy_estimator.hidden = policy_estimator.init_hidden()\n",
    "        action_space = np.arange(policy_estimator.tagset_size)\n",
    "        \n",
    "        #Get next batch\n",
    "        batch_data = next(data_iterator)\n",
    "        counter += 1\n",
    "        batch_rewards = []\n",
    "        batch_actions = []\n",
    "        batch_states = [sequence[0] for sequence in batch_data]\n",
    "        state_tensor = torch.tensor(batch_states, dtype=torch.long)\n",
    "        \n",
    "        batch_out = policy_estimator.predict(state_tensor)\n",
    "        \n",
    "        batch_out = batch_out.detach().numpy()\n",
    "        for i in range(len(batch_data)):\n",
    "            #Iterate over each LSTM time step\n",
    "            actions = []\n",
    "            rewards = []\n",
    "            target = batch_data[i][1] #Get label of the current sequence\n",
    "            for j in range(batch_out[i].shape[0]):\n",
    "                action_probs = batch_out[i][j]\n",
    "                action = np.random.choice(action_space, p=action_probs)\n",
    "                actions.append([action]) #To have 1 dimension at the end for indexing\n",
    "                reward = get_reward_for_action(action,target)\n",
    "                rewards.append(reward)                   \n",
    "            batch_actions.append(actions)\n",
    "            batch_rewards.append(np.mean(rewards)) #Append average reward per time step to batch_rewards                   \n",
    "        total_rewards.append(sum(batch_rewards)) #Total of rewards for a batch\n",
    "        reward_tensor = torch.FloatTensor(batch_rewards)\n",
    "        \n",
    "        action_tensor = torch.LongTensor(batch_actions)\n",
    "\n",
    "        #Gradient update\n",
    "        optimizer.zero_grad()\n",
    "\n",
    "        # Calculate loss\n",
    "        logprob = policy_estimator(state_tensor)\n",
    "        \n",
    "        '''\n",
    "        Dimensionality check\n",
    "        logprob = batch_size * max_len * tagset_size(output_vocab_dim)\n",
    "        reward_tensor = batch_size * max_len\n",
    "        action_tensor = batch_size * max_len * 1 (3d tensor so that I can do the gather operation)\n",
    "        '''\n",
    "        \n",
    "        selected_logprobs = torch.gather(logprob,2,action_tensor)\n",
    "        #Reshape so that dot product can be computed\n",
    "        selected_logprobs = selected_logprobs.view(selected_logprobs.shape[0],selected_logprobs.shape[1])\n",
    "        selected_logprobs = reward_tensor * selected_logprobs\n",
    "        \n",
    "        loss = -selected_logprobs.mean(1).sum() #Take mean of timestep for loss per seq, sum for all seq in batch\n",
    "        \n",
    "        losses.append(loss.item())\n",
    "        if(counter % loss_freq == 0):\n",
    "            val_results = validate()\n",
    "            rl_loss = round(loss.item(),4)\n",
    "            print(\"\\rEpoch : {}, Batch count: {} Current Loss: {:.4f} Top 10 acc: {:.2f} Top 100 acc: {:.2f}\".format(\n",
    "                data_iterator.current_epoch, counter, rl_loss, \n",
    "                val_results['t_10']/val_results['l'],\n",
    "                val_results['t_100']/val_results['l']))\n",
    "            \n",
    "            #Write these results to the csv log file            \n",
    "            log_writer.writerow([data_iterator.current_epoch, counter, rl_loss, \n",
    "                                 val_results['t_10']/val_results['l'],\n",
    "                                 val_results['t_100']/val_results['l']])\n",
    "        \n",
    "        if(last_epoch != data_iterator.current_epoch):\n",
    "            #Save the model if loss has decreased\n",
    "            prev_loss = last_epoch_loss\n",
    "            if(prev_loss > loss.item()):\n",
    "                print(\"Loss improved from {:.4f} to {:.4f}\".format(\n",
    "                    prev_loss, loss.item()\n",
    "                ))\n",
    "                torch.save({\n",
    "                    'model_state_dict': model.state_dict(),\n",
    "                    'optimizer_state_dict': optimizer.state_dict(),\n",
    "                }, MODEL_PATH)\n",
    "                print(\"Last checkpoint at \"+str(datetime.datetime.now()))\n",
    "            last_epoch = data_iterator.current_epoch\n",
    "            last_epoch_loss = loss.item()\n",
    "\n",
    "        # Calculate gradients\n",
    "        loss.backward()\n",
    "\n",
    "        # Apply gradients\n",
    "        optimizer.step()\n",
    "    return losses"
   ]
  },
  {
   "cell_type": "code",
   "execution_count": 164,
   "metadata": {
    "collapsed": true
   },
   "outputs": [],
   "source": [
    "# Initialize weight matrix tensor from embedding matrix\n",
    "weight_matrix = torch.FloatTensor(embedding_matrix)"
   ]
  },
  {
   "cell_type": "code",
   "execution_count": 165,
   "metadata": {},
   "outputs": [
    {
     "name": "stdout",
     "output_type": "stream",
     "text": [
      "950\n",
      "60\n"
     ]
    }
   ],
   "source": [
    "# Initialize dataIterator\n",
    "batchIterator = BatchIterator(train_set, batch_size, 4)"
   ]
  },
  {
   "cell_type": "code",
   "execution_count": 166,
   "metadata": {
    "collapsed": true
   },
   "outputs": [],
   "source": [
    "# Initialize model\n",
    "model = PolicyEstimator(weight_matrix, input_emb_dim, lstm_units, len(X_vocab), len(Y_vocab), max_len, batch_size)"
   ]
  },
  {
   "cell_type": "code",
   "execution_count": 167,
   "metadata": {},
   "outputs": [
    {
     "name": "stdout",
     "output_type": "stream",
     "text": [
      "Epoch : 1, Batch count: 10 Current Loss: 1.8532 Top 10 acc: 0.12 Top 100 acc: 1.00\n",
      "Epoch : 1, Batch count: 20 Current Loss: 1.6027 Top 10 acc: 0.34 Top 100 acc: 1.00\n",
      "Epoch : 1, Batch count: 30 Current Loss: 2.0933 Top 10 acc: 0.24 Top 100 acc: 1.00\n",
      "Epoch : 1, Batch count: 40 Current Loss: 0.6872 Top 10 acc: 0.02 Top 100 acc: 1.00\n",
      "Epoch : 1, Batch count: 50 Current Loss: 0.6793 Top 10 acc: 0.02 Top 100 acc: 1.00\n",
      "Epoch : 2, Batch count: 60 Current Loss: 1.4335 Top 10 acc: 0.02 Top 100 acc: 1.00\n",
      "Epoch : 2, Batch count: 70 Current Loss: 1.3952 Top 10 acc: 0.04 Top 100 acc: 1.00\n",
      "Epoch : 2, Batch count: 80 Current Loss: 1.4837 Top 10 acc: 0.02 Top 100 acc: 1.00\n",
      "Epoch : 2, Batch count: 90 Current Loss: 1.1314 Top 10 acc: 0.10 Top 100 acc: 1.00\n",
      "Epoch : 2, Batch count: 100 Current Loss: 1.6151 Top 10 acc: 0.14 Top 100 acc: 1.00\n",
      "Epoch : 2, Batch count: 110 Current Loss: 2.2269 Top 10 acc: 0.12 Top 100 acc: 1.00\n",
      "Epoch : 3, Batch count: 120 Current Loss: 1.5806 Top 10 acc: 0.18 Top 100 acc: 1.00\n",
      "Epoch : 3, Batch count: 130 Current Loss: 1.2329 Top 10 acc: 0.20 Top 100 acc: 1.00\n",
      "Epoch : 3, Batch count: 140 Current Loss: 1.1250 Top 10 acc: 0.18 Top 100 acc: 1.00\n",
      "Epoch : 3, Batch count: 150 Current Loss: 0.7644 Top 10 acc: 0.20 Top 100 acc: 1.00\n",
      "Epoch : 3, Batch count: 160 Current Loss: 0.9390 Top 10 acc: 0.22 Top 100 acc: 1.00\n",
      "Epoch : 3, Batch count: 170 Current Loss: 0.9709 Top 10 acc: 0.20 Top 100 acc: 1.00\n",
      "Epoch : 4, Batch count: 180 Current Loss: 0.5756 Top 10 acc: 0.20 Top 100 acc: 1.00\n",
      "Loss improved from 1.5806 to 0.5756\n",
      "Last checkpoint at 2018-10-28 16:21:12.114540\n",
      "Epoch : 4, Batch count: 190 Current Loss: 0.9477 Top 10 acc: 0.20 Top 100 acc: 1.00\n",
      "Epoch : 4, Batch count: 200 Current Loss: 1.2692 Top 10 acc: 0.22 Top 100 acc: 1.00\n",
      "Epoch : 4, Batch count: 210 Current Loss: 0.7543 Top 10 acc: 0.20 Top 100 acc: 1.00\n",
      "Epoch : 4, Batch count: 220 Current Loss: 1.0478 Top 10 acc: 0.20 Top 100 acc: 1.00\n",
      "Epoch : 4, Batch count: 230 Current Loss: 0.9800 Top 10 acc: 0.20 Top 100 acc: 1.00\n",
      "Epoch : 5, Batch count: 240 Current Loss: 0.5005 Top 10 acc: 0.20 Top 100 acc: 1.00\n",
      "Loss improved from 0.5756 to 0.5005\n",
      "Last checkpoint at 2018-10-28 16:21:40.614744\n"
     ]
    }
   ],
   "source": [
    "csv_log_file = open('training_log.csv', mode='w')\n",
    "log_writer = csv.writer(csv_log_file)\n",
    "output_losses = train(model, batchIterator)\n",
    "csv_log_file.close()"
   ]
  },
  {
   "cell_type": "code",
   "execution_count": 168,
   "metadata": {},
   "outputs": [
    {
     "data": {
      "text/plain": [
       "[<matplotlib.lines.Line2D at 0x12c1fc2b0>]"
      ]
     },
     "execution_count": 168,
     "metadata": {},
     "output_type": "execute_result"
    },
    {
     "data": {
      "image/png": "[encoded data removed]",
      "text/plain": [
       "<Figure size 432x288 with 1 Axes>"
      ]
     },
     "metadata": {},
     "output_type": "display_data"
    }
   ],
   "source": [
    "#Plot output losses\n",
    "pl.plot(output_losses)"
   ]
  },
  {
   "cell_type": "code",
   "execution_count": 162,
   "metadata": {},
   "outputs": [
    {
     "data": {
      "text/plain": [
       "\"\\n#Eval sub-routine\\n\\nmodel = PolicyEstimator(weight_matrix, input_emb_dim, lstm_units, len(X_vocab), len(Y_vocab), max_len, batch_size)\\noptimizer = optim.Adam(model.parameters(),lr=0.01)\\n\\ncheckpoint = torch.load(MODEL_PATH)\\n\\nmodel.load_state_dict(checkpoint['model_state_dict'])\\noptimizer.load_state_dict(checkpoint['optimizer_state_dict'])\\n\\nmodel.eval()\\nvalidate()\\n\\n\""
      ]
     },
     "execution_count": 162,
     "metadata": {},
     "output_type": "execute_result"
    }
   ],
   "source": [
    "'''\n",
    "#Eval sub-routine\n",
    "\n",
    "model = PolicyEstimator(weight_matrix, input_emb_dim, lstm_units, len(X_vocab), len(Y_vocab), max_len, batch_size)\n",
    "optimizer = optim.Adam(model.parameters(),lr=0.01)\n",
    "\n",
    "checkpoint = torch.load(MODEL_PATH)\n",
    "\n",
    "model.load_state_dict(checkpoint['model_state_dict'])\n",
    "optimizer.load_state_dict(checkpoint['optimizer_state_dict'])\n",
    "\n",
    "model.eval()\n",
    "validate()\n",
    "\n",
    "'''"
   ]
  }
 ],
 "metadata": {
  "kernelspec": {
   "display_name": "Python 3",
   "language": "python",
   "name": "python3"
  },
  "language_info": {
   "codemirror_mode": {
    "name": "ipython",
    "version": 3
   },
   "file_extension": ".py",
   "mimetype": "text/x-python",
   "name": "python",
   "nbconvert_exporter": "python",
   "pygments_lexer": "ipython3",
   "version": "3.6.2"
  }
 },
 "nbformat": 4,
 "nbformat_minor": 2
}
